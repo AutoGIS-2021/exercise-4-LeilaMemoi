{
 "cells": [
  {
   "cell_type": "markdown",
   "metadata": {
    "deletable": false,
    "editable": false,
    "nbgrader": {
     "cell_type": "markdown",
     "checksum": "294aa28b3b8d5cbe706c64f4f296803f",
     "grade": false,
     "grade_id": "cell-dc7532d3649929fe",
     "locked": true,
     "schema_version": 3,
     "solution": false
    }
   },
   "source": [
    "# Exercise 4\n",
    "\n",
    "This week we will practice how to conduct data classification and aggregation using geopandas. Last week in exercise 3 we analyzed buffer zones around shopping centers. This week we will take into account travel distances using data from the [Helsinki Region Travel Time Matrix](https://blogs.helsinki.fi/accessibility/helsinki-region-travel-time-matrix/).\n",
    "\n",
    "\n",
    "## Problem 1: Join accessibility datasets into a grid and visualize the data on a map (10 points)\n",
    "\n",
    "\n",
    "![P1 example result](img/traveltimes_example.png)\n",
    "\n",
    "*Desired output from problem 1: Travel times by public transport (PT) and car to Itis and Myyrmanni*\n",
    "\n",
    "**Data:**\n",
    "\n",
    "The [data/](data/) directory in this repository contains all the required input data for this exercise:\n",
    " \n",
    "- Travel time data: `travel_times_to_[XXXXXXX]_[NAME-OF-THE-CENTER].txt` (Travel times and distances in the Helsinki Region to different shopping centers  as text files)\n",
    "- Reference grid: `MetropAccess_YKR_grid_EurefFIN.shp`. \n",
    "\n",
    "Column `from_id` in the travel time data sets corresponds to the `YKR_ID` column in the grid shapefile.\n",
    "     \n",
    "**Steps:**\n",
    "\n",
    "In problem 1 we will focus on travel times to **Itis** and **Myyrmanni**. Our goal is to visualize travel times by public transport and car to both shopping centers. Before plotting the maps we need to classify the data. Your task is to **first develop the processing steps using Itis as input**, and then repeat the steps for Myyrmanni."
   ]
  },
  {
   "cell_type": "markdown",
   "metadata": {
    "deletable": false,
    "editable": false,
    "nbgrader": {
     "cell_type": "markdown",
     "checksum": "9b046616aa0c41114316e2e56ad69d16",
     "grade": false,
     "grade_id": "cell-fc5d70b88edd7ad6",
     "locked": true,
     "schema_version": 3,
     "solution": false
    }
   },
   "source": [
    "- Read the Polygon grid `MetropAccess_YKR_grid_EurefFIN.shp` into a GeoDataFrame called `grid` using geopandas:"
   ]
  },
  {
   "cell_type": "code",
   "execution_count": 1,
   "metadata": {
    "deletable": false,
    "nbgrader": {
     "cell_type": "code",
     "checksum": "d0ec6d4c9eb95f7e88fa5a05a48d05b0",
     "grade": false,
     "grade_id": "read_grid",
     "locked": false,
     "schema_version": 3,
     "solution": true,
     "task": false
    }
   },
   "outputs": [],
   "source": [
    "# REPLACE THE ERROR BELOW WITH YOUR OWN CODE\n",
    "import json\n",
    "import numpy as np\n",
    "import pandas as pd\n",
    "import geopandas as gpd\n",
    "from pyproj import CRS\n",
    "import matplotlib.pyplot as plt"
   ]
  },
  {
   "cell_type": "code",
   "execution_count": 2,
   "metadata": {},
   "outputs": [
    {
     "data": {
      "text/html": [
       "<div>\n",
       "<style scoped>\n",
       "    .dataframe tbody tr th:only-of-type {\n",
       "        vertical-align: middle;\n",
       "    }\n",
       "\n",
       "    .dataframe tbody tr th {\n",
       "        vertical-align: top;\n",
       "    }\n",
       "\n",
       "    .dataframe thead th {\n",
       "        text-align: right;\n",
       "    }\n",
       "</style>\n",
       "<table border=\"1\" class=\"dataframe\">\n",
       "  <thead>\n",
       "    <tr style=\"text-align: right;\">\n",
       "      <th></th>\n",
       "      <th>x</th>\n",
       "      <th>y</th>\n",
       "      <th>YKR_ID</th>\n",
       "      <th>geometry</th>\n",
       "    </tr>\n",
       "  </thead>\n",
       "  <tbody>\n",
       "    <tr>\n",
       "      <th>0</th>\n",
       "      <td>381875.0</td>\n",
       "      <td>6697880.0</td>\n",
       "      <td>5785640</td>\n",
       "      <td>POLYGON ((382000.000 6697750.000, 381750.000 6...</td>\n",
       "    </tr>\n",
       "    <tr>\n",
       "      <th>1</th>\n",
       "      <td>382125.0</td>\n",
       "      <td>6697880.0</td>\n",
       "      <td>5785641</td>\n",
       "      <td>POLYGON ((382250.000 6697750.000, 382000.000 6...</td>\n",
       "    </tr>\n",
       "    <tr>\n",
       "      <th>2</th>\n",
       "      <td>382375.0</td>\n",
       "      <td>6697880.0</td>\n",
       "      <td>5785642</td>\n",
       "      <td>POLYGON ((382500.000 6697750.000, 382250.000 6...</td>\n",
       "    </tr>\n",
       "    <tr>\n",
       "      <th>3</th>\n",
       "      <td>382625.0</td>\n",
       "      <td>6697880.0</td>\n",
       "      <td>5785643</td>\n",
       "      <td>POLYGON ((382750.000 6697750.000, 382500.000 6...</td>\n",
       "    </tr>\n",
       "    <tr>\n",
       "      <th>4</th>\n",
       "      <td>381125.0</td>\n",
       "      <td>6697630.0</td>\n",
       "      <td>5787544</td>\n",
       "      <td>POLYGON ((381250.000 6697500.000, 381000.000 6...</td>\n",
       "    </tr>\n",
       "  </tbody>\n",
       "</table>\n",
       "</div>"
      ],
      "text/plain": [
       "          x          y   YKR_ID  \\\n",
       "0  381875.0  6697880.0  5785640   \n",
       "1  382125.0  6697880.0  5785641   \n",
       "2  382375.0  6697880.0  5785642   \n",
       "3  382625.0  6697880.0  5785643   \n",
       "4  381125.0  6697630.0  5787544   \n",
       "\n",
       "                                            geometry  \n",
       "0  POLYGON ((382000.000 6697750.000, 381750.000 6...  \n",
       "1  POLYGON ((382250.000 6697750.000, 382000.000 6...  \n",
       "2  POLYGON ((382500.000 6697750.000, 382250.000 6...  \n",
       "3  POLYGON ((382750.000 6697750.000, 382500.000 6...  \n",
       "4  POLYGON ((381250.000 6697500.000, 381000.000 6...  "
      ]
     },
     "execution_count": 2,
     "metadata": {},
     "output_type": "execute_result"
    }
   ],
   "source": [
    "grid=gpd.read_file(r\"C:\\Users\\USER PC\\Documents\\HelsinkiUni\\exercise-4-LeilaMemoi\\data\\MetropAccess_YKR_grid_EurefFIN.shp\")\n",
    "grid.head()"
   ]
  },
  {
   "cell_type": "code",
   "execution_count": 3,
   "metadata": {
    "deletable": false,
    "editable": false,
    "nbgrader": {
     "cell_type": "code",
     "checksum": "475af3116740d4a7e2531c1627333c72",
     "grade": true,
     "grade_id": "problem_1_grid_input_test",
     "locked": true,
     "points": 0.5,
     "schema_version": 3,
     "solution": false
    }
   },
   "outputs": [
    {
     "name": "stdout",
     "output_type": "stream",
     "text": [
      "\n",
      "YKR GRID: {len(grid)} rows\n"
     ]
    }
   ],
   "source": [
    "# NON-EDITABLE TEST CELL\n",
    "# Check the data\n",
    "print(\"\\nYKR GRID: {len(grid)} rows\")"
   ]
  },
  {
   "cell_type": "code",
   "execution_count": null,
   "metadata": {},
   "outputs": [],
   "source": []
  },
  {
   "cell_type": "markdown",
   "metadata": {
    "deletable": false,
    "editable": false,
    "nbgrader": {
     "cell_type": "markdown",
     "checksum": "619651f4ad9a06c75f4d422d95c13c86",
     "grade": false,
     "grade_id": "cell-9328a2a52f7e9a86",
     "locked": true,
     "schema_version": 3,
     "solution": false,
     "task": false
    }
   },
   "source": [
    "- Read the travel time data file for Itis using Pandas into a variable called `data`. Separator is `\";\"` in the input file.\n",
    "- Select only following columns from the file:\n",
    "    \n",
    "   - `pt_r_t`\n",
    "   - `car_r_t`\n",
    "   - `from_id`\n",
    "   - `to_id`"
   ]
  },
  {
   "cell_type": "code",
   "execution_count": 4,
   "metadata": {
    "deletable": false,
    "nbgrader": {
     "cell_type": "code",
     "checksum": "151de7bc9173c1a268bd1a031699dab0",
     "grade": false,
     "grade_id": "read_data",
     "locked": false,
     "schema_version": 3,
     "solution": true
    }
   },
   "outputs": [],
   "source": [
    "# REPLACE THE ERROR BELOW WITH YOUR OWN CODE\n",
    "data=pd.read_csv(r\"C:\\Users\\USER PC\\Documents\\HelsinkiUni\\exercise-4-LeilaMemoi\\data\\TravelTimes_to_5944003_Itis.txt\",sep=\";\")"
   ]
  },
  {
   "cell_type": "code",
   "execution_count": 5,
   "metadata": {},
   "outputs": [
    {
     "data": {
      "text/html": [
       "<div>\n",
       "<style scoped>\n",
       "    .dataframe tbody tr th:only-of-type {\n",
       "        vertical-align: middle;\n",
       "    }\n",
       "\n",
       "    .dataframe tbody tr th {\n",
       "        vertical-align: top;\n",
       "    }\n",
       "\n",
       "    .dataframe thead th {\n",
       "        text-align: right;\n",
       "    }\n",
       "</style>\n",
       "<table border=\"1\" class=\"dataframe\">\n",
       "  <thead>\n",
       "    <tr style=\"text-align: right;\">\n",
       "      <th></th>\n",
       "      <th>from_id</th>\n",
       "      <th>to_id</th>\n",
       "      <th>walk_t</th>\n",
       "      <th>walk_d</th>\n",
       "      <th>car_r_t</th>\n",
       "      <th>car_r_d</th>\n",
       "      <th>car_m_t</th>\n",
       "      <th>car_m_d</th>\n",
       "      <th>pt_r_t</th>\n",
       "      <th>pt_r_tt</th>\n",
       "      <th>pt_r_d</th>\n",
       "      <th>pt_m_t</th>\n",
       "      <th>pt_m_tt</th>\n",
       "      <th>pt_m_d</th>\n",
       "    </tr>\n",
       "  </thead>\n",
       "  <tbody>\n",
       "    <tr>\n",
       "      <th>0</th>\n",
       "      <td>5785640</td>\n",
       "      <td>5944003</td>\n",
       "      <td>494</td>\n",
       "      <td>34582</td>\n",
       "      <td>50</td>\n",
       "      <td>36229</td>\n",
       "      <td>44</td>\n",
       "      <td>36229</td>\n",
       "      <td>132</td>\n",
       "      <td>157</td>\n",
       "      <td>38465</td>\n",
       "      <td>142</td>\n",
       "      <td>173</td>\n",
       "      <td>38465</td>\n",
       "    </tr>\n",
       "    <tr>\n",
       "      <th>1</th>\n",
       "      <td>5785641</td>\n",
       "      <td>5944003</td>\n",
       "      <td>457</td>\n",
       "      <td>31966</td>\n",
       "      <td>51</td>\n",
       "      <td>36439</td>\n",
       "      <td>45</td>\n",
       "      <td>36439</td>\n",
       "      <td>135</td>\n",
       "      <td>154</td>\n",
       "      <td>38671</td>\n",
       "      <td>145</td>\n",
       "      <td>171</td>\n",
       "      <td>38671</td>\n",
       "    </tr>\n",
       "    <tr>\n",
       "      <th>2</th>\n",
       "      <td>5785642</td>\n",
       "      <td>5944003</td>\n",
       "      <td>458</td>\n",
       "      <td>32046</td>\n",
       "      <td>58</td>\n",
       "      <td>35841</td>\n",
       "      <td>52</td>\n",
       "      <td>34064</td>\n",
       "      <td>137</td>\n",
       "      <td>154</td>\n",
       "      <td>38789</td>\n",
       "      <td>147</td>\n",
       "      <td>172</td>\n",
       "      <td>38789</td>\n",
       "    </tr>\n",
       "    <tr>\n",
       "      <th>3</th>\n",
       "      <td>5785643</td>\n",
       "      <td>5944003</td>\n",
       "      <td>462</td>\n",
       "      <td>32338</td>\n",
       "      <td>57</td>\n",
       "      <td>37723</td>\n",
       "      <td>50</td>\n",
       "      <td>37935</td>\n",
       "      <td>141</td>\n",
       "      <td>163</td>\n",
       "      <td>39082</td>\n",
       "      <td>151</td>\n",
       "      <td>176</td>\n",
       "      <td>39082</td>\n",
       "    </tr>\n",
       "    <tr>\n",
       "      <th>4</th>\n",
       "      <td>5787544</td>\n",
       "      <td>5944003</td>\n",
       "      <td>487</td>\n",
       "      <td>34093</td>\n",
       "      <td>50</td>\n",
       "      <td>35803</td>\n",
       "      <td>44</td>\n",
       "      <td>35803</td>\n",
       "      <td>125</td>\n",
       "      <td>142</td>\n",
       "      <td>37976</td>\n",
       "      <td>122</td>\n",
       "      <td>148</td>\n",
       "      <td>37786</td>\n",
       "    </tr>\n",
       "  </tbody>\n",
       "</table>\n",
       "</div>"
      ],
      "text/plain": [
       "   from_id    to_id  walk_t  walk_d  car_r_t  car_r_d  car_m_t  car_m_d  \\\n",
       "0  5785640  5944003     494   34582       50    36229       44    36229   \n",
       "1  5785641  5944003     457   31966       51    36439       45    36439   \n",
       "2  5785642  5944003     458   32046       58    35841       52    34064   \n",
       "3  5785643  5944003     462   32338       57    37723       50    37935   \n",
       "4  5787544  5944003     487   34093       50    35803       44    35803   \n",
       "\n",
       "   pt_r_t  pt_r_tt  pt_r_d  pt_m_t  pt_m_tt  pt_m_d  \n",
       "0     132      157   38465     142      173   38465  \n",
       "1     135      154   38671     145      171   38671  \n",
       "2     137      154   38789     147      172   38789  \n",
       "3     141      163   39082     151      176   39082  \n",
       "4     125      142   37976     122      148   37786  "
      ]
     },
     "execution_count": 5,
     "metadata": {},
     "output_type": "execute_result"
    }
   ],
   "source": [
    "data.head()"
   ]
  },
  {
   "cell_type": "code",
   "execution_count": 6,
   "metadata": {},
   "outputs": [
    {
     "data": {
      "text/html": [
       "<div>\n",
       "<style scoped>\n",
       "    .dataframe tbody tr th:only-of-type {\n",
       "        vertical-align: middle;\n",
       "    }\n",
       "\n",
       "    .dataframe tbody tr th {\n",
       "        vertical-align: top;\n",
       "    }\n",
       "\n",
       "    .dataframe thead th {\n",
       "        text-align: right;\n",
       "    }\n",
       "</style>\n",
       "<table border=\"1\" class=\"dataframe\">\n",
       "  <thead>\n",
       "    <tr style=\"text-align: right;\">\n",
       "      <th></th>\n",
       "      <th>pt_r_t</th>\n",
       "      <th>car_r_t</th>\n",
       "      <th>from_id</th>\n",
       "      <th>to_id</th>\n",
       "    </tr>\n",
       "  </thead>\n",
       "  <tbody>\n",
       "    <tr>\n",
       "      <th>0</th>\n",
       "      <td>132</td>\n",
       "      <td>50</td>\n",
       "      <td>5785640</td>\n",
       "      <td>5944003</td>\n",
       "    </tr>\n",
       "    <tr>\n",
       "      <th>1</th>\n",
       "      <td>135</td>\n",
       "      <td>51</td>\n",
       "      <td>5785641</td>\n",
       "      <td>5944003</td>\n",
       "    </tr>\n",
       "    <tr>\n",
       "      <th>2</th>\n",
       "      <td>137</td>\n",
       "      <td>58</td>\n",
       "      <td>5785642</td>\n",
       "      <td>5944003</td>\n",
       "    </tr>\n",
       "    <tr>\n",
       "      <th>3</th>\n",
       "      <td>141</td>\n",
       "      <td>57</td>\n",
       "      <td>5785643</td>\n",
       "      <td>5944003</td>\n",
       "    </tr>\n",
       "    <tr>\n",
       "      <th>4</th>\n",
       "      <td>125</td>\n",
       "      <td>50</td>\n",
       "      <td>5787544</td>\n",
       "      <td>5944003</td>\n",
       "    </tr>\n",
       "  </tbody>\n",
       "</table>\n",
       "</div>"
      ],
      "text/plain": [
       "   pt_r_t  car_r_t  from_id    to_id\n",
       "0     132       50  5785640  5944003\n",
       "1     135       51  5785641  5944003\n",
       "2     137       58  5785642  5944003\n",
       "3     141       57  5785643  5944003\n",
       "4     125       50  5787544  5944003"
      ]
     },
     "execution_count": 6,
     "metadata": {},
     "output_type": "execute_result"
    }
   ],
   "source": [
    "data=data[[\"pt_r_t\",\"car_r_t\",\"from_id\",\"to_id\"]]\n",
    "data.head()"
   ]
  },
  {
   "cell_type": "code",
   "execution_count": 7,
   "metadata": {
    "deletable": false,
    "editable": false,
    "nbgrader": {
     "cell_type": "code",
     "checksum": "2cc4164fc62fb4c4c95fe17853bf3492",
     "grade": true,
     "grade_id": "problem_1_data_input_test",
     "locked": true,
     "points": 0.5,
     "schema_version": 3,
     "solution": false,
     "task": false
    }
   },
   "outputs": [
    {
     "name": "stdout",
     "output_type": "stream",
     "text": [
      "\n",
      "ITIS: 13231 rows\n"
     ]
    }
   ],
   "source": [
    "# NON-EDITABLE TEST CELL\n",
    "# Check the data\n",
    "print(f\"\\nITIS: {len(data)} rows\")"
   ]
  },
  {
   "cell_type": "markdown",
   "metadata": {
    "deletable": false,
    "editable": false,
    "nbgrader": {
     "cell_type": "markdown",
     "checksum": "0cd5890bb5ae2a1e651bd4f287746624",
     "grade": false,
     "grade_id": "cell-7466fe21ede7360b",
     "locked": true,
     "schema_version": 3,
     "solution": false
    }
   },
   "source": [
    "- join attributes from `data` to `grid` using the [merge](https://pandas.pydata.org/pandas-docs/stable/reference/api/pandas.DataFrame.merge.html) function: \n",
    "  - **`YKR_ID`** -column in `grid` corresponds to the **`from_id`** column in `data`\n",
    "  - store the join output into a variable called `data_geo` "
   ]
  },
  {
   "cell_type": "code",
   "execution_count": 8,
   "metadata": {
    "deletable": false,
    "nbgrader": {
     "cell_type": "code",
     "checksum": "f7a3330d7c1b94c80fd77771e9ba1def",
     "grade": false,
     "grade_id": "table_join",
     "locked": false,
     "schema_version": 3,
     "solution": true
    }
   },
   "outputs": [
    {
     "data": {
      "text/html": [
       "<div>\n",
       "<style scoped>\n",
       "    .dataframe tbody tr th:only-of-type {\n",
       "        vertical-align: middle;\n",
       "    }\n",
       "\n",
       "    .dataframe tbody tr th {\n",
       "        vertical-align: top;\n",
       "    }\n",
       "\n",
       "    .dataframe thead th {\n",
       "        text-align: right;\n",
       "    }\n",
       "</style>\n",
       "<table border=\"1\" class=\"dataframe\">\n",
       "  <thead>\n",
       "    <tr style=\"text-align: right;\">\n",
       "      <th></th>\n",
       "      <th>x</th>\n",
       "      <th>y</th>\n",
       "      <th>YKR_ID</th>\n",
       "      <th>geometry</th>\n",
       "      <th>pt_r_t</th>\n",
       "      <th>car_r_t</th>\n",
       "      <th>from_id</th>\n",
       "      <th>to_id</th>\n",
       "    </tr>\n",
       "  </thead>\n",
       "  <tbody>\n",
       "    <tr>\n",
       "      <th>0</th>\n",
       "      <td>381875.0</td>\n",
       "      <td>6697880.0</td>\n",
       "      <td>5785640</td>\n",
       "      <td>POLYGON ((382000.000 6697750.000, 381750.000 6...</td>\n",
       "      <td>132</td>\n",
       "      <td>50</td>\n",
       "      <td>5785640</td>\n",
       "      <td>5944003</td>\n",
       "    </tr>\n",
       "    <tr>\n",
       "      <th>1</th>\n",
       "      <td>382125.0</td>\n",
       "      <td>6697880.0</td>\n",
       "      <td>5785641</td>\n",
       "      <td>POLYGON ((382250.000 6697750.000, 382000.000 6...</td>\n",
       "      <td>135</td>\n",
       "      <td>51</td>\n",
       "      <td>5785641</td>\n",
       "      <td>5944003</td>\n",
       "    </tr>\n",
       "    <tr>\n",
       "      <th>2</th>\n",
       "      <td>382375.0</td>\n",
       "      <td>6697880.0</td>\n",
       "      <td>5785642</td>\n",
       "      <td>POLYGON ((382500.000 6697750.000, 382250.000 6...</td>\n",
       "      <td>137</td>\n",
       "      <td>58</td>\n",
       "      <td>5785642</td>\n",
       "      <td>5944003</td>\n",
       "    </tr>\n",
       "    <tr>\n",
       "      <th>3</th>\n",
       "      <td>382625.0</td>\n",
       "      <td>6697880.0</td>\n",
       "      <td>5785643</td>\n",
       "      <td>POLYGON ((382750.000 6697750.000, 382500.000 6...</td>\n",
       "      <td>141</td>\n",
       "      <td>57</td>\n",
       "      <td>5785643</td>\n",
       "      <td>5944003</td>\n",
       "    </tr>\n",
       "    <tr>\n",
       "      <th>4</th>\n",
       "      <td>381125.0</td>\n",
       "      <td>6697630.0</td>\n",
       "      <td>5787544</td>\n",
       "      <td>POLYGON ((381250.000 6697500.000, 381000.000 6...</td>\n",
       "      <td>125</td>\n",
       "      <td>50</td>\n",
       "      <td>5787544</td>\n",
       "      <td>5944003</td>\n",
       "    </tr>\n",
       "  </tbody>\n",
       "</table>\n",
       "</div>"
      ],
      "text/plain": [
       "          x          y   YKR_ID  \\\n",
       "0  381875.0  6697880.0  5785640   \n",
       "1  382125.0  6697880.0  5785641   \n",
       "2  382375.0  6697880.0  5785642   \n",
       "3  382625.0  6697880.0  5785643   \n",
       "4  381125.0  6697630.0  5787544   \n",
       "\n",
       "                                            geometry  pt_r_t  car_r_t  \\\n",
       "0  POLYGON ((382000.000 6697750.000, 381750.000 6...     132       50   \n",
       "1  POLYGON ((382250.000 6697750.000, 382000.000 6...     135       51   \n",
       "2  POLYGON ((382500.000 6697750.000, 382250.000 6...     137       58   \n",
       "3  POLYGON ((382750.000 6697750.000, 382500.000 6...     141       57   \n",
       "4  POLYGON ((381250.000 6697500.000, 381000.000 6...     125       50   \n",
       "\n",
       "   from_id    to_id  \n",
       "0  5785640  5944003  \n",
       "1  5785641  5944003  \n",
       "2  5785642  5944003  \n",
       "3  5785643  5944003  \n",
       "4  5787544  5944003  "
      ]
     },
     "execution_count": 8,
     "metadata": {},
     "output_type": "execute_result"
    }
   ],
   "source": [
    "# REPLACE THE ERROR BELOW WITH YOUR OWN CODE\n",
    "data_geo=grid.merge(data,left_on=\"YKR_ID\",right_on=\"from_id\",how=\"left\")\n",
    "data_geo.head()"
   ]
  },
  {
   "cell_type": "code",
   "execution_count": 9,
   "metadata": {
    "deletable": false,
    "editable": false,
    "nbgrader": {
     "cell_type": "code",
     "checksum": "b98287600c803d070bc579aafd485793",
     "grade": true,
     "grade_id": "problem_1_table_join_dtype_test",
     "locked": true,
     "points": 0.5,
     "schema_version": 3,
     "solution": false,
     "task": false
    }
   },
   "outputs": [],
   "source": [
    "# NON-EDITABLE TEST CELL\n",
    "#Check data type\n",
    "assert type(data_geo) == gpd.geodataframe.GeoDataFrame, \"Output should be a geodataframe.\""
   ]
  },
  {
   "cell_type": "code",
   "execution_count": 10,
   "metadata": {
    "deletable": false,
    "editable": false,
    "nbgrader": {
     "cell_type": "code",
     "checksum": "cb3eb07b6e1c90000a8bd3082a18cd08",
     "grade": true,
     "grade_id": "problem_1_table_join_columns_test",
     "locked": true,
     "points": 0.5,
     "schema_version": 3,
     "solution": false
    }
   },
   "outputs": [],
   "source": [
    "# NON-EDITABLE TEST CELL\n",
    "# Check that the merged output have (at least) the necessary columns\n",
    "required_columns = ['YKR_ID', 'pt_r_t', 'car_r_t', 'geometry']\n",
    "\n",
    "assert all(x in data_geo.columns for x in required_columns), \"Couldn't find all required columns.\""
   ]
  },
  {
   "cell_type": "markdown",
   "metadata": {
    "deletable": false,
    "editable": false,
    "nbgrader": {
     "cell_type": "markdown",
     "checksum": "a04367dc6d3198f007ca59544eb11aac",
     "grade": false,
     "grade_id": "cell-c9758c259e0c8abd",
     "locked": true,
     "schema_version": 3,
     "solution": false
    }
   },
   "source": [
    "- Remove all rows containing no-data values (`-1`) from `data_geo`. You can for example [replace](https://pandas.pydata.org/pandas-docs/stable/reference/api/pandas.DataFrame.replace.html) the no-data values with numpy's `np.nan`, and then drop rows containing no-data values using the [DataFrame.dropna](https://pandas.pydata.org/pandas-docs/stable/reference/api/pandas.DataFrame.dropna.html) function."
   ]
  },
  {
   "cell_type": "code",
   "execution_count": 11,
   "metadata": {
    "deletable": false,
    "nbgrader": {
     "cell_type": "code",
     "checksum": "77edb0755e62f533924e50affba9f862",
     "grade": false,
     "grade_id": "replace_values",
     "locked": false,
     "schema_version": 3,
     "solution": true
    }
   },
   "outputs": [],
   "source": [
    "# Remove all rows containing no-data values (-1) from data_geo[\"pt_r_t]\"\n",
    "data_geo = data_geo.loc[data_geo['pt_r_t'] >=0]"
   ]
  },
  {
   "cell_type": "code",
   "execution_count": null,
   "metadata": {},
   "outputs": [],
   "source": []
  },
  {
   "cell_type": "code",
   "execution_count": 12,
   "metadata": {
    "deletable": false,
    "editable": false,
    "nbgrader": {
     "cell_type": "code",
     "checksum": "074092c0e89a1f6b5565bee3061aca05",
     "grade": true,
     "grade_id": "problem_1_replace_values_test",
     "locked": true,
     "points": 1,
     "schema_version": 3,
     "solution": false
    }
   },
   "outputs": [],
   "source": [
    "# NON-EDITABLE TEST CELL\n",
    "# Check that -1 values are not present in the columns\n",
    "assert -1 not in data_geo[\"pt_r_t\"], \"NoData values (-1) should be removed from the data!\"\n"
   ]
  },
  {
   "cell_type": "markdown",
   "metadata": {
    "deletable": false,
    "editable": false,
    "nbgrader": {
     "cell_type": "markdown",
     "checksum": "392d9864337556e206eec0634859a7e5",
     "grade": false,
     "grade_id": "cell-a1ae2db99f7de17b",
     "locked": true,
     "schema_version": 3,
     "solution": false
    }
   },
   "source": [
    "- Classify the travel times for both travel modes (public transport and private car) into five-minute intervals \n",
    "    - Create a `UserDefined` classifier using the [pysal/mapclassify](https://github.com/pysal/mapclassify#userdefined) library using these class breaks: `5, 10, 15, 20, 25, 30, 35, 40, 45, 50, 55, 60`\n",
    "    - Apply the classifier to `pt_r_t` and `car_r_t` columns and store the results to `pt_r_t_cl` and `car_r_t_cl` columns, respectively\n",
    "    - Notice that these 12 class breaks will produce 13 classes (1 class break divides the data into two classes)."
   ]
  },
  {
   "cell_type": "code",
   "execution_count": 13,
   "metadata": {
    "deletable": false,
    "nbgrader": {
     "cell_type": "code",
     "checksum": "202eca52c16a72ab3b8d6521ce364b20",
     "grade": false,
     "grade_id": "classify_values",
     "locked": false,
     "schema_version": 3,
     "solution": true
    }
   },
   "outputs": [],
   "source": [
    "# REPLACE THE ERROR BELOW WITH YOUR OWN CODE\n",
    "import mapclassify"
   ]
  },
  {
   "cell_type": "code",
   "execution_count": 14,
   "metadata": {},
   "outputs": [],
   "source": [
    "classifier=mapclassify.UserDefined.make(bins=[5,10,15,20,25,30,35,40,45,50,55,60])"
   ]
  },
  {
   "cell_type": "code",
   "execution_count": 15,
   "metadata": {},
   "outputs": [],
   "source": [
    "data_geo[\"pt_r_t_cl\"]=data_geo[[\"pt_r_t\"]].apply(classifier)\n"
   ]
  },
  {
   "cell_type": "code",
   "execution_count": 16,
   "metadata": {},
   "outputs": [],
   "source": [
    "data_geo[\"car_r_t_cl\"]=data_geo[[\"car_r_t\"]].apply(classifier)"
   ]
  },
  {
   "cell_type": "code",
   "execution_count": null,
   "metadata": {},
   "outputs": [],
   "source": []
  },
  {
   "cell_type": "code",
   "execution_count": 17,
   "metadata": {
    "deletable": false,
    "editable": false,
    "nbgrader": {
     "cell_type": "code",
     "checksum": "1b537b13dac72a0ba1503c8386414e3d",
     "grade": true,
     "grade_id": "problem_1_itis_pt_classify_test",
     "locked": true,
     "points": 1,
     "schema_version": 3,
     "solution": false,
     "task": false
    }
   },
   "outputs": [
    {
     "name": "stdout",
     "output_type": "stream",
     "text": [
      "travel times by public transport:\n",
      "    YKR_ID  pt_r_t  pt_r_t_cl\n",
      "0  5785640     132         12\n",
      "1  5785641     135         12\n",
      "2  5785642     137         12\n",
      "3  5785643     141         12\n",
      "4  5787544     125         12\n"
     ]
    }
   ],
   "source": [
    "# NON-EDITABLE TEST CELL\n",
    "#Check the output\n",
    "print(\"travel times by public transport:\")\n",
    "print(data_geo[['YKR_ID', 'pt_r_t', 'pt_r_t_cl']].head())"
   ]
  },
  {
   "cell_type": "code",
   "execution_count": 18,
   "metadata": {
    "deletable": false,
    "editable": false,
    "nbgrader": {
     "cell_type": "code",
     "checksum": "23b6f61399ac42b57b421096bcef84a8",
     "grade": true,
     "grade_id": "problem_1_itis_car_classify_test",
     "locked": true,
     "points": 1,
     "schema_version": 3,
     "solution": false,
     "task": false
    }
   },
   "outputs": [
    {
     "name": "stdout",
     "output_type": "stream",
     "text": [
      "Travel times by car:\n",
      "    YKR_ID  car_r_t  car_r_t_cl\n",
      "0  5785640       50           9\n",
      "1  5785641       51          10\n",
      "2  5785642       58          11\n",
      "3  5785643       57          11\n",
      "4  5787544       50           9\n"
     ]
    }
   ],
   "source": [
    "# NON-EDITABLE TEST CELL\n",
    "#Check the output\n",
    "print(\"Travel times by car:\")\n",
    "print(data_geo[['YKR_ID','car_r_t', 'car_r_t_cl']].head())"
   ]
  },
  {
   "cell_type": "code",
   "execution_count": 19,
   "metadata": {},
   "outputs": [
    {
     "data": {
      "text/plain": [
       "<Figure size 432x288 with 0 Axes>"
      ]
     },
     "metadata": {},
     "output_type": "display_data"
    }
   ],
   "source": [
    "\n",
    "\n",
    "plt.tight_layout()"
   ]
  },
  {
   "cell_type": "code",
   "execution_count": 20,
   "metadata": {},
   "outputs": [
    {
     "data": {
      "image/png": "[encoded data removed]",
      "text/plain": [
       "<Figure size 720x360 with 2 Axes>"
      ]
     },
     "metadata": {
      "needs_background": "light"
     },
     "output_type": "display_data"
    }
   ],
   "source": [
    "fig,(ax1,ax2)=plt.subplots(nrows=1,ncols=2,figsize=(10,5))\n",
    "data_geo.plot(ax=ax1,column=\"pt_r_t_cl\",linewidth=0, legend=False,)\n",
    "ax1.set_title(\"Itis-Travel times by PT\")\n",
    "data_geo.plot(ax=ax2,column=\"car_r_t_cl\",linewidth=0, legend=False)\n",
    "ax2.set_title(\"Itis-Travel times by Car\")\n",
    "plt.tight_layout()"
   ]
  },
  {
   "cell_type": "markdown",
   "metadata": {},
   "source": [
    "**Plot the classified travel times to Itis**:\n",
    "\n",
    "![itis_example.png](img/itis_example.png)\n",
    "\n",
    "Create a 1x2 plot where the you plot travel times by public transport and travel times by car to Itis:\n",
    "- Create subplots using matplotlib having 1 row and 2 columns (use parameters `nrows` & `ncols`), and the figure size should be 10 inches by 5 inches (use parameter `figsize`)\n",
    "- Add titles for the subplots as seen in the example above\n",
    "- Remove the empty whitespace around the plots using function `plt.tight_layout()`\n",
    "- Save the figure into disk with filename `itis_accessibility.png`\n"
   ]
  },
  {
   "cell_type": "code",
   "execution_count": 21,
   "metadata": {
    "deletable": false,
    "nbgrader": {
     "cell_type": "code",
     "checksum": "d5bc01d196b50fee36dc911f13e07417",
     "grade": false,
     "grade_id": "plot_itis",
     "locked": false,
     "schema_version": 3,
     "solution": true,
     "task": false
    }
   },
   "outputs": [],
   "source": [
    "# Define output filename for the figure in here and use it when saving the file:\n",
    "output_fig1 = fig.savefig(r\"C:\\Users\\USER PC\\Documents\\HelsinkiUni\\exercise-4-LeilaMemoi\\itis_accessibility.png\")\n",
    "\n",
    "# REPLACE THE ERROR BELOW WITH YOUR OWN CODE\n",
    "plt.close(fig)"
   ]
  },
  {
   "cell_type": "code",
   "execution_count": 22,
   "metadata": {
    "deletable": false,
    "editable": false,
    "nbgrader": {
     "cell_type": "code",
     "checksum": "da41a4213247c27fe15786ffd8c9ec02",
     "grade": true,
     "grade_id": "problem_1_itis_output_test",
     "locked": true,
     "points": 0.5,
     "schema_version": 3,
     "solution": false,
     "task": false
    }
   },
   "outputs": [
    {
     "ename": "TypeError",
     "evalue": "stat: path should be string, bytes, os.PathLike or integer, not NoneType",
     "output_type": "error",
     "traceback": [
      "\u001b[1;31m---------------------------------------------------------------------------\u001b[0m",
      "\u001b[1;31mTypeError\u001b[0m                                 Traceback (most recent call last)",
      "\u001b[1;32mC:\\Users\\USERPC~1\\AppData\\Local\\Temp/ipykernel_5016/3159544688.py\u001b[0m in \u001b[0;36m<module>\u001b[1;34m\u001b[0m\n\u001b[0;32m      2\u001b[0m \u001b[1;31m# Check that output figure file exists\u001b[0m\u001b[1;33m\u001b[0m\u001b[1;33m\u001b[0m\u001b[0m\n\u001b[0;32m      3\u001b[0m \u001b[1;32mimport\u001b[0m \u001b[0mos\u001b[0m\u001b[1;33m\u001b[0m\u001b[1;33m\u001b[0m\u001b[0m\n\u001b[1;32m----> 4\u001b[1;33m \u001b[1;32massert\u001b[0m \u001b[0mos\u001b[0m\u001b[1;33m.\u001b[0m\u001b[0mpath\u001b[0m\u001b[1;33m.\u001b[0m\u001b[0misfile\u001b[0m\u001b[1;33m(\u001b[0m\u001b[0moutput_fig1\u001b[0m\u001b[1;33m)\u001b[0m\u001b[1;33m,\u001b[0m \u001b[1;34m\"figure does not exists!\"\u001b[0m\u001b[1;33m\u001b[0m\u001b[1;33m\u001b[0m\u001b[0m\n\u001b[0m",
      "\u001b[1;32m~\\.conda\\envs\\PythonGIS\\lib\\genericpath.py\u001b[0m in \u001b[0;36misfile\u001b[1;34m(path)\u001b[0m\n\u001b[0;32m     28\u001b[0m     \u001b[1;34m\"\"\"Test whether a path is a regular file\"\"\"\u001b[0m\u001b[1;33m\u001b[0m\u001b[1;33m\u001b[0m\u001b[0m\n\u001b[0;32m     29\u001b[0m     \u001b[1;32mtry\u001b[0m\u001b[1;33m:\u001b[0m\u001b[1;33m\u001b[0m\u001b[1;33m\u001b[0m\u001b[0m\n\u001b[1;32m---> 30\u001b[1;33m         \u001b[0mst\u001b[0m \u001b[1;33m=\u001b[0m \u001b[0mos\u001b[0m\u001b[1;33m.\u001b[0m\u001b[0mstat\u001b[0m\u001b[1;33m(\u001b[0m\u001b[0mpath\u001b[0m\u001b[1;33m)\u001b[0m\u001b[1;33m\u001b[0m\u001b[1;33m\u001b[0m\u001b[0m\n\u001b[0m\u001b[0;32m     31\u001b[0m     \u001b[1;32mexcept\u001b[0m \u001b[1;33m(\u001b[0m\u001b[0mOSError\u001b[0m\u001b[1;33m,\u001b[0m \u001b[0mValueError\u001b[0m\u001b[1;33m)\u001b[0m\u001b[1;33m:\u001b[0m\u001b[1;33m\u001b[0m\u001b[1;33m\u001b[0m\u001b[0m\n\u001b[0;32m     32\u001b[0m         \u001b[1;32mreturn\u001b[0m \u001b[1;32mFalse\u001b[0m\u001b[1;33m\u001b[0m\u001b[1;33m\u001b[0m\u001b[0m\n",
      "\u001b[1;31mTypeError\u001b[0m: stat: path should be string, bytes, os.PathLike or integer, not NoneType"
     ]
    }
   ],
   "source": [
    "# NON-EDITABLE TEST CELL\n",
    "# Check that output figure file exists\n",
    "import os\n",
    "assert os.path.isfile(output_fig1), \"figure does not exists!\""
   ]
  },
  {
   "cell_type": "code",
   "execution_count": 23,
   "metadata": {},
   "outputs": [],
   "source": [
    "data1=pd.read_csv(r\"C:\\Users\\USER PC\\Documents\\HelsinkiUni\\exercise-4-LeilaMemoi\\data\\TravelTimes_to_5902043_Myyrmanni.txt\",sep=\";\")"
   ]
  },
  {
   "cell_type": "code",
   "execution_count": 24,
   "metadata": {},
   "outputs": [
    {
     "data": {
      "text/html": [
       "<div>\n",
       "<style scoped>\n",
       "    .dataframe tbody tr th:only-of-type {\n",
       "        vertical-align: middle;\n",
       "    }\n",
       "\n",
       "    .dataframe tbody tr th {\n",
       "        vertical-align: top;\n",
       "    }\n",
       "\n",
       "    .dataframe thead th {\n",
       "        text-align: right;\n",
       "    }\n",
       "</style>\n",
       "<table border=\"1\" class=\"dataframe\">\n",
       "  <thead>\n",
       "    <tr style=\"text-align: right;\">\n",
       "      <th></th>\n",
       "      <th>pt_r_t</th>\n",
       "      <th>car_r_t</th>\n",
       "      <th>from_id</th>\n",
       "      <th>to_id</th>\n",
       "    </tr>\n",
       "  </thead>\n",
       "  <tbody>\n",
       "    <tr>\n",
       "      <th>0</th>\n",
       "      <td>90</td>\n",
       "      <td>39</td>\n",
       "      <td>5785640</td>\n",
       "      <td>5902043</td>\n",
       "    </tr>\n",
       "    <tr>\n",
       "      <th>1</th>\n",
       "      <td>93</td>\n",
       "      <td>39</td>\n",
       "      <td>5785641</td>\n",
       "      <td>5902043</td>\n",
       "    </tr>\n",
       "    <tr>\n",
       "      <th>2</th>\n",
       "      <td>95</td>\n",
       "      <td>47</td>\n",
       "      <td>5785642</td>\n",
       "      <td>5902043</td>\n",
       "    </tr>\n",
       "    <tr>\n",
       "      <th>3</th>\n",
       "      <td>99</td>\n",
       "      <td>51</td>\n",
       "      <td>5785643</td>\n",
       "      <td>5902043</td>\n",
       "    </tr>\n",
       "    <tr>\n",
       "      <th>4</th>\n",
       "      <td>83</td>\n",
       "      <td>38</td>\n",
       "      <td>5787544</td>\n",
       "      <td>5902043</td>\n",
       "    </tr>\n",
       "  </tbody>\n",
       "</table>\n",
       "</div>"
      ],
      "text/plain": [
       "   pt_r_t  car_r_t  from_id    to_id\n",
       "0      90       39  5785640  5902043\n",
       "1      93       39  5785641  5902043\n",
       "2      95       47  5785642  5902043\n",
       "3      99       51  5785643  5902043\n",
       "4      83       38  5787544  5902043"
      ]
     },
     "execution_count": 24,
     "metadata": {},
     "output_type": "execute_result"
    }
   ],
   "source": [
    "data1=data1[[\"pt_r_t\",\"car_r_t\",\"from_id\",\"to_id\"]]\n",
    "data1.head()"
   ]
  },
  {
   "cell_type": "code",
   "execution_count": 25,
   "metadata": {},
   "outputs": [
    {
     "data": {
      "text/html": [
       "<div>\n",
       "<style scoped>\n",
       "    .dataframe tbody tr th:only-of-type {\n",
       "        vertical-align: middle;\n",
       "    }\n",
       "\n",
       "    .dataframe tbody tr th {\n",
       "        vertical-align: top;\n",
       "    }\n",
       "\n",
       "    .dataframe thead th {\n",
       "        text-align: right;\n",
       "    }\n",
       "</style>\n",
       "<table border=\"1\" class=\"dataframe\">\n",
       "  <thead>\n",
       "    <tr style=\"text-align: right;\">\n",
       "      <th></th>\n",
       "      <th>x</th>\n",
       "      <th>y</th>\n",
       "      <th>YKR_ID</th>\n",
       "      <th>geometry</th>\n",
       "      <th>pt_r_t</th>\n",
       "      <th>car_r_t</th>\n",
       "      <th>from_id</th>\n",
       "      <th>to_id</th>\n",
       "    </tr>\n",
       "  </thead>\n",
       "  <tbody>\n",
       "    <tr>\n",
       "      <th>0</th>\n",
       "      <td>381875.0</td>\n",
       "      <td>6697880.0</td>\n",
       "      <td>5785640</td>\n",
       "      <td>POLYGON ((382000.000 6697750.000, 381750.000 6...</td>\n",
       "      <td>90</td>\n",
       "      <td>39</td>\n",
       "      <td>5785640</td>\n",
       "      <td>5902043</td>\n",
       "    </tr>\n",
       "    <tr>\n",
       "      <th>1</th>\n",
       "      <td>382125.0</td>\n",
       "      <td>6697880.0</td>\n",
       "      <td>5785641</td>\n",
       "      <td>POLYGON ((382250.000 6697750.000, 382000.000 6...</td>\n",
       "      <td>93</td>\n",
       "      <td>39</td>\n",
       "      <td>5785641</td>\n",
       "      <td>5902043</td>\n",
       "    </tr>\n",
       "    <tr>\n",
       "      <th>2</th>\n",
       "      <td>382375.0</td>\n",
       "      <td>6697880.0</td>\n",
       "      <td>5785642</td>\n",
       "      <td>POLYGON ((382500.000 6697750.000, 382250.000 6...</td>\n",
       "      <td>95</td>\n",
       "      <td>47</td>\n",
       "      <td>5785642</td>\n",
       "      <td>5902043</td>\n",
       "    </tr>\n",
       "    <tr>\n",
       "      <th>3</th>\n",
       "      <td>382625.0</td>\n",
       "      <td>6697880.0</td>\n",
       "      <td>5785643</td>\n",
       "      <td>POLYGON ((382750.000 6697750.000, 382500.000 6...</td>\n",
       "      <td>99</td>\n",
       "      <td>51</td>\n",
       "      <td>5785643</td>\n",
       "      <td>5902043</td>\n",
       "    </tr>\n",
       "    <tr>\n",
       "      <th>4</th>\n",
       "      <td>381125.0</td>\n",
       "      <td>6697630.0</td>\n",
       "      <td>5787544</td>\n",
       "      <td>POLYGON ((381250.000 6697500.000, 381000.000 6...</td>\n",
       "      <td>83</td>\n",
       "      <td>38</td>\n",
       "      <td>5787544</td>\n",
       "      <td>5902043</td>\n",
       "    </tr>\n",
       "  </tbody>\n",
       "</table>\n",
       "</div>"
      ],
      "text/plain": [
       "          x          y   YKR_ID  \\\n",
       "0  381875.0  6697880.0  5785640   \n",
       "1  382125.0  6697880.0  5785641   \n",
       "2  382375.0  6697880.0  5785642   \n",
       "3  382625.0  6697880.0  5785643   \n",
       "4  381125.0  6697630.0  5787544   \n",
       "\n",
       "                                            geometry  pt_r_t  car_r_t  \\\n",
       "0  POLYGON ((382000.000 6697750.000, 381750.000 6...      90       39   \n",
       "1  POLYGON ((382250.000 6697750.000, 382000.000 6...      93       39   \n",
       "2  POLYGON ((382500.000 6697750.000, 382250.000 6...      95       47   \n",
       "3  POLYGON ((382750.000 6697750.000, 382500.000 6...      99       51   \n",
       "4  POLYGON ((381250.000 6697500.000, 381000.000 6...      83       38   \n",
       "\n",
       "   from_id    to_id  \n",
       "0  5785640  5902043  \n",
       "1  5785641  5902043  \n",
       "2  5785642  5902043  \n",
       "3  5785643  5902043  \n",
       "4  5787544  5902043  "
      ]
     },
     "execution_count": 25,
     "metadata": {},
     "output_type": "execute_result"
    }
   ],
   "source": [
    "data_geo1=grid.merge(data1,left_on=\"YKR_ID\",right_on=\"from_id\",how=\"left\")\n",
    "data_geo1.head()"
   ]
  },
  {
   "cell_type": "code",
   "execution_count": 26,
   "metadata": {},
   "outputs": [],
   "source": [
    "# Remove all rows containing no-data values (-1) from data_geo[\"pt_r_t]\"\n",
    "data_geo1 = data_geo1.loc[data_geo1['pt_r_t'] >=0]"
   ]
  },
  {
   "cell_type": "code",
   "execution_count": 27,
   "metadata": {},
   "outputs": [],
   "source": [
    "data_geo1[\"pt_r_t_cl\"]=data_geo1[[\"pt_r_t\"]].apply(classifier)"
   ]
  },
  {
   "cell_type": "code",
   "execution_count": 28,
   "metadata": {},
   "outputs": [],
   "source": [
    "data_geo1[\"car_r_t_cl\"]=data_geo1[[\"car_r_t\"]].apply(classifier)"
   ]
  },
  {
   "cell_type": "code",
   "execution_count": 29,
   "metadata": {},
   "outputs": [
    {
     "data": {
      "image/png": "[encoded data removed]",
      "text/plain": [
       "<Figure size 720x360 with 2 Axes>"
      ]
     },
     "metadata": {
      "needs_background": "light"
     },
     "output_type": "display_data"
    }
   ],
   "source": [
    "fig1,(ax3,ax4)=plt.subplots(nrows=1,ncols=2,figsize=(10,5))\n",
    "data_geo1.plot(ax=ax3,column=\"pt_r_t_cl\",linewidth=0, legend=False)\n",
    "ax3.set_title(\"Myyrmanni-Travel times by PT\")\n",
    "data_geo1.plot(ax=ax4,column=\"car_r_t_cl\",linewidth=0, legend=False)\n",
    "ax4.set_title(\"Myyrmanni-Travel times by Car\")\n",
    "plt.tight_layout()"
   ]
  },
  {
   "cell_type": "markdown",
   "metadata": {
    "deletable": false,
    "editable": false,
    "nbgrader": {
     "cell_type": "markdown",
     "checksum": "64f40faa19751d350bf02ee0e4e5a7f7",
     "grade": false,
     "grade_id": "repeating-process",
     "locked": true,
     "schema_version": 3,
     "solution": false,
     "task": false
    }
   },
   "source": [
    "**Repeat the steps for Myyrmanni:**\n",
    "\n",
    "![myyrmanni example figure](img/myyrmanni_example.png)\n",
    "\n",
    "Next, your task is to repeat all the same steps for **Myyrmanni** (`data/TravelTimes_to_5902043_Myyrmanni.txt`):\n",
    "\n",
    "    # Read text file using pandas into a variable called data\n",
    "    # Select columns 'pt_r_t', 'car_r_t', 'from_id', 'to_id'\n",
    "    # Make table join between grid and travel time data. Store output in a variable called data_geo\n",
    "    # Remove no data values\n",
    "    # Classify the values in columns 'pt_r_t', 'car_r_t' into new columns 'pt_r_t_cl', 'car_r_t_cl'\n",
    "    # Plot travel times by public transport and travel times by car.\n",
    "    # Save output image to file (myyrmanni_accessibility.png)\n",
    "\n",
    "*Hint: You can copy paste the code from your earlier solutions in here, just change the input file path.*\n"
   ]
  },
  {
   "cell_type": "code",
   "execution_count": null,
   "metadata": {},
   "outputs": [],
   "source": []
  },
  {
   "cell_type": "code",
   "execution_count": 30,
   "metadata": {
    "deletable": false,
    "nbgrader": {
     "cell_type": "code",
     "checksum": "cc30b32e543db046535e6012638ccc8f",
     "grade": false,
     "grade_id": "cell-7a5388593168d78b",
     "locked": false,
     "schema_version": 3,
     "solution": true,
     "task": false
    }
   },
   "outputs": [],
   "source": [
    "# Define output filename for the figure in here and use it when saving the file:\n",
    "output_fig2 =fig1.savefig(r\"C:\\Users\\USER PC\\Documents\\HelsinkiUni\\exercise-4-LeilaMemoi\\myyrmanni_accessibility.png\")\n",
    "\n",
    "# REPLACE THE ERROR BELOW WITH YOUR OWN CODE\n",
    "plt.close(fig1)"
   ]
  },
  {
   "cell_type": "code",
   "execution_count": 31,
   "metadata": {
    "deletable": false,
    "editable": false,
    "nbgrader": {
     "cell_type": "code",
     "checksum": "7dcf3cca574a986249939ac9315ffe08",
     "grade": true,
     "grade_id": "problem_1_final_output_test",
     "locked": true,
     "points": 0.5,
     "schema_version": 3,
     "solution": false,
     "task": false
    }
   },
   "outputs": [
    {
     "ename": "TypeError",
     "evalue": "stat: path should be string, bytes, os.PathLike or integer, not NoneType",
     "output_type": "error",
     "traceback": [
      "\u001b[1;31m---------------------------------------------------------------------------\u001b[0m",
      "\u001b[1;31mTypeError\u001b[0m                                 Traceback (most recent call last)",
      "\u001b[1;32mC:\\Users\\USERPC~1\\AppData\\Local\\Temp/ipykernel_5016/2523238736.py\u001b[0m in \u001b[0;36m<module>\u001b[1;34m\u001b[0m\n\u001b[0;32m      2\u001b[0m \u001b[1;31m# Check that output figure file exists\u001b[0m\u001b[1;33m\u001b[0m\u001b[1;33m\u001b[0m\u001b[0m\n\u001b[0;32m      3\u001b[0m \u001b[1;32mimport\u001b[0m \u001b[0mos\u001b[0m\u001b[1;33m\u001b[0m\u001b[1;33m\u001b[0m\u001b[0m\n\u001b[1;32m----> 4\u001b[1;33m \u001b[1;32massert\u001b[0m \u001b[0mos\u001b[0m\u001b[1;33m.\u001b[0m\u001b[0mpath\u001b[0m\u001b[1;33m.\u001b[0m\u001b[0misfile\u001b[0m\u001b[1;33m(\u001b[0m\u001b[0moutput_fig2\u001b[0m\u001b[1;33m)\u001b[0m\u001b[1;33m,\u001b[0m \u001b[1;34m\"figure does not exists!\"\u001b[0m\u001b[1;33m\u001b[0m\u001b[1;33m\u001b[0m\u001b[0m\n\u001b[0m",
      "\u001b[1;32m~\\.conda\\envs\\PythonGIS\\lib\\genericpath.py\u001b[0m in \u001b[0;36misfile\u001b[1;34m(path)\u001b[0m\n\u001b[0;32m     28\u001b[0m     \u001b[1;34m\"\"\"Test whether a path is a regular file\"\"\"\u001b[0m\u001b[1;33m\u001b[0m\u001b[1;33m\u001b[0m\u001b[0m\n\u001b[0;32m     29\u001b[0m     \u001b[1;32mtry\u001b[0m\u001b[1;33m:\u001b[0m\u001b[1;33m\u001b[0m\u001b[1;33m\u001b[0m\u001b[0m\n\u001b[1;32m---> 30\u001b[1;33m         \u001b[0mst\u001b[0m \u001b[1;33m=\u001b[0m \u001b[0mos\u001b[0m\u001b[1;33m.\u001b[0m\u001b[0mstat\u001b[0m\u001b[1;33m(\u001b[0m\u001b[0mpath\u001b[0m\u001b[1;33m)\u001b[0m\u001b[1;33m\u001b[0m\u001b[1;33m\u001b[0m\u001b[0m\n\u001b[0m\u001b[0;32m     31\u001b[0m     \u001b[1;32mexcept\u001b[0m \u001b[1;33m(\u001b[0m\u001b[0mOSError\u001b[0m\u001b[1;33m,\u001b[0m \u001b[0mValueError\u001b[0m\u001b[1;33m)\u001b[0m\u001b[1;33m:\u001b[0m\u001b[1;33m\u001b[0m\u001b[1;33m\u001b[0m\u001b[0m\n\u001b[0;32m     32\u001b[0m         \u001b[1;32mreturn\u001b[0m \u001b[1;32mFalse\u001b[0m\u001b[1;33m\u001b[0m\u001b[1;33m\u001b[0m\u001b[0m\n",
      "\u001b[1;31mTypeError\u001b[0m: stat: path should be string, bytes, os.PathLike or integer, not NoneType"
     ]
    }
   ],
   "source": [
    "# NON-EDITABLE TEST CELL\n",
    "# Check that output figure file exists\n",
    "import os\n",
    "assert os.path.isfile(output_fig2), \"figure does not exists!\""
   ]
  },
  {
   "cell_type": "markdown",
   "metadata": {},
   "source": [
    "\n",
    "**Optional:  4-panel figure**\n",
    "\n",
    "As an optional task, plot travel times to Itis and Myyrmanni all in one 4-panel figure (see example at the top of this page)!\n",
    "\n",
    "Hints:\n",
    "- create a for-loop where you repeat all the steps for Itis and Myyrmanni (you can iterate over a list of input filepaths)\n",
    "- Before the for-loop, create a figure with 4 subplots (2 rows and 2 columns) and use figsize=(10,10)\n",
    "- Inside the for-loop, plot each map into one of the subplots. \n",
    "- save the figure as `shopping_center_accessibility.png` "
   ]
  },
  {
   "cell_type": "code",
   "execution_count": null,
   "metadata": {
    "deletable": false,
    "nbgrader": {
     "cell_type": "code",
     "checksum": "b365e5801e120ac6e706ae42a938dc94",
     "grade": false,
     "grade_id": "for-loop",
     "locked": false,
     "schema_version": 3,
     "solution": true,
     "task": false
    }
   },
   "outputs": [],
   "source": []
  },
  {
   "cell_type": "markdown",
   "metadata": {},
   "source": [
    "**Finally**, check that you have provided adequate comments in your code.\n",
    "\n",
    "**Reflections:** (Only for enrolled students)\n",
    "- If you want to ask feedback on spesific parts of your code, please leave your comment in here: "
   ]
  },
  {
   "cell_type": "markdown",
   "metadata": {
    "deletable": false,
    "nbgrader": {
     "cell_type": "markdown",
     "checksum": "93ea07b57f7684eebcb15a4631ed5fbf",
     "grade": true,
     "grade_id": "cell-c75c11f6a94612ef",
     "locked": false,
     "points": 4,
     "schema_version": 3,
     "solution": true,
     "task": false
    }
   },
   "source": [
    "YOUR ANSWER HERE"
   ]
  },
  {
   "cell_type": "markdown",
   "metadata": {},
   "source": [
    "### Done!\n",
    "\n",
    "\n",
    "**Remember to commit the output figures** to your exercise repository! (One for Itis and one for Myyrmanni, or optionally a combined 4-panel figure for both shopping centers and both travel modes).\n",
    "\n",
    "That's it! Once you have plotted the data and saved the output you are ready to continue with Problem 2."
   ]
  }
 ],
 "metadata": {
  "anaconda-cloud": {},
  "kernelspec": {
   "display_name": "Python 3 (ipykernel)",
   "language": "python",
   "name": "python3"
  },
  "language_info": {
   "codemirror_mode": {
    "name": "ipython",
    "version": 3
   },
   "file_extension": ".py",
   "mimetype": "text/x-python",
   "name": "python",
   "nbconvert_exporter": "python",
   "pygments_lexer": "ipython3",
   "version": "3.10.0"
  }
 },
 "nbformat": 4,
 "nbformat_minor": 4
}
